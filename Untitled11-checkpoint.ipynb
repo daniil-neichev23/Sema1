{
 "cells": [
  {
   "cell_type": "code",
   "execution_count": 1,
   "metadata": {},
   "outputs": [
    {
     "ename": "FileNotFoundError",
     "evalue": "[Errno 2] No such file or directory: 'data/recipes.html'",
     "output_type": "error",
     "traceback": [
      "\u001b[1;31m---------------------------------------------------------------------------\u001b[0m",
      "\u001b[1;31mFileNotFoundError\u001b[0m                         Traceback (most recent call last)",
      "\u001b[1;32m<ipython-input-1-421baddfd87c>\u001b[0m in \u001b[0;36m<module>\u001b[1;34m\u001b[0m\n\u001b[0;32m     61\u001b[0m \u001b[1;33m\u001b[0m\u001b[0m\n\u001b[0;32m     62\u001b[0m \u001b[1;32mif\u001b[0m \u001b[0m__name__\u001b[0m \u001b[1;33m==\u001b[0m \u001b[1;34m'__main__'\u001b[0m\u001b[1;33m:\u001b[0m\u001b[1;33m\u001b[0m\u001b[1;33m\u001b[0m\u001b[0m\n\u001b[1;32m---> 63\u001b[1;33m     \u001b[0mparser\u001b[0m\u001b[1;33m(\u001b[0m\u001b[1;34m'https://www.allrecipes.com/?page=2'\u001b[0m\u001b[1;33m)\u001b[0m\u001b[1;33m\u001b[0m\u001b[1;33m\u001b[0m\u001b[0m\n\u001b[0m\u001b[0;32m     64\u001b[0m     \u001b[1;32mwith\u001b[0m \u001b[0mopen\u001b[0m\u001b[1;33m(\u001b[0m\u001b[1;34m'data/recipes.html'\u001b[0m\u001b[1;33m,\u001b[0m \u001b[1;34m'r'\u001b[0m\u001b[1;33m)\u001b[0m \u001b[1;32mas\u001b[0m \u001b[0mfile\u001b[0m\u001b[1;33m:\u001b[0m\u001b[1;33m\u001b[0m\u001b[1;33m\u001b[0m\u001b[0m\n\u001b[0;32m     65\u001b[0m         \u001b[0mdata\u001b[0m \u001b[1;33m=\u001b[0m \u001b[0mfile\u001b[0m\u001b[1;33m.\u001b[0m\u001b[0mread\u001b[0m\u001b[1;33m(\u001b[0m\u001b[1;33m)\u001b[0m\u001b[1;33m\u001b[0m\u001b[1;33m\u001b[0m\u001b[0m\n",
      "\u001b[1;32m<ipython-input-1-421baddfd87c>\u001b[0m in \u001b[0;36mparser\u001b[1;34m(link)\u001b[0m\n\u001b[0;32m     11\u001b[0m                \"Connection\": \"close\", \"Upgrade-Insecure-Requests\": \"1\"}\n\u001b[0;32m     12\u001b[0m     \u001b[0mres\u001b[0m \u001b[1;33m=\u001b[0m \u001b[0mrequests\u001b[0m\u001b[1;33m.\u001b[0m\u001b[0mget\u001b[0m\u001b[1;33m(\u001b[0m\u001b[0mlink\u001b[0m\u001b[1;33m,\u001b[0m \u001b[0mheaders\u001b[0m\u001b[1;33m=\u001b[0m\u001b[0mheaders\u001b[0m\u001b[1;33m)\u001b[0m\u001b[1;33m\u001b[0m\u001b[1;33m\u001b[0m\u001b[0m\n\u001b[1;32m---> 13\u001b[1;33m     \u001b[0mopen\u001b[0m\u001b[1;33m(\u001b[0m\u001b[1;34m'data/recipes.html'\u001b[0m\u001b[1;33m,\u001b[0m \u001b[1;34m'wb'\u001b[0m\u001b[1;33m)\u001b[0m\u001b[1;33m.\u001b[0m\u001b[0mwrite\u001b[0m\u001b[1;33m(\u001b[0m\u001b[0mbytes\u001b[0m\u001b[1;33m(\u001b[0m\u001b[0mres\u001b[0m\u001b[1;33m.\u001b[0m\u001b[0mtext\u001b[0m\u001b[1;33m,\u001b[0m \u001b[0mencoding\u001b[0m\u001b[1;33m=\u001b[0m\u001b[1;34m'UTF-8'\u001b[0m\u001b[1;33m)\u001b[0m\u001b[1;33m)\u001b[0m\u001b[1;33m\u001b[0m\u001b[1;33m\u001b[0m\u001b[0m\n\u001b[0m\u001b[0;32m     14\u001b[0m \u001b[1;33m\u001b[0m\u001b[0m\n\u001b[0;32m     15\u001b[0m \u001b[1;33m\u001b[0m\u001b[0m\n",
      "\u001b[1;31mFileNotFoundError\u001b[0m: [Errno 2] No such file or directory: 'data/recipes.html'"
     ]
    }
   ],
   "source": [
    "import requests\n",
    "import bs4 as bs\n",
    "from xml.etree.ElementTree import Element, SubElement, ElementTree\n",
    "from xml.dom.minidom import parseString\n",
    "\n",
    "\n",
    "def parser(link):\n",
    "    headers = {\"User-Agent\": \"Mozilla/5.0 (Windows NT 10.0; Win64; x64; rv:66.0) Gecko/20100101 Firefox/66.0\",\n",
    "               \"Accept-Encoding\": \"gzip, deflate\",\n",
    "               \"Accept\": \"text/html,application/xhtml+xml,application/xml;q=0.9,*/*;q=0.8\", \"DNT\": \"1\",\n",
    "               \"Connection\": \"close\", \"Upgrade-Insecure-Requests\": \"1\"}\n",
    "    res = requests.get(link, headers=headers)\n",
    "    open('recipes.html', 'wb').write(bytes(res.text, encoding='UTF-8'))\n",
    "\n",
    "\n",
    "def page_scrapping(text_of_page):\n",
    "    soup = bs.BeautifulSoup(text_of_page, features='lxml')\n",
    "    items_matrix = []\n",
    "    heads_of_items = soup.find_all('span', class_='fixed-recipe-card__title-link')\n",
    "    items_matrix.append(list(map(lambda x: x.text, heads_of_items)))\n",
    "    num_of_reviews = soup.find_all('format-large-number')\n",
    "    items_matrix.append(list(map(lambda x: x['number'], num_of_reviews)))\n",
    "    rating = soup.find_all('span', class_='stars')\n",
    "    items_matrix.append(list(map(lambda x: x['data-ratingstars'], rating)))\n",
    "    description = soup.find_all('div', class_='fixed-recipe-card__description')\n",
    "    items_matrix.append(list(map(lambda x: x.text, description)))\n",
    "    author = soup.find_all('ul', class_='cook-submitter-info')\n",
    "    items_matrix.append(list(map(lambda x: x.text.replace('\\n', ''), author)))\n",
    "    return items_matrix\n",
    "\n",
    "\n",
    "def xml_forming(items_matrix):\n",
    "    items_list = Element('list')\n",
    "    for i in range(len(items_matrix[0])):\n",
    "        recipe = SubElement(items_list, 'recipe')\n",
    "        recipe.set('id', str(i))\n",
    "        name = SubElement(recipe, 'name')\n",
    "        name.text = items_matrix[0][i]\n",
    "        num_of_reviews = SubElement(recipe, 'num_of_reviews')\n",
    "        num_of_reviews.text = items_matrix[1][i]\n",
    "        rating = SubElement(recipe, 'rating')\n",
    "        rating.text = items_matrix[2][i]\n",
    "        description = SubElement(recipe, 'description')\n",
    "        description.text = items_matrix[3][i]\n",
    "        author = SubElement(recipe, 'author')\n",
    "        author.text = items_matrix[4][i]\n",
    "    tree = ElementTree(items_list)\n",
    "    tree.write('recipes.xml', encoding='UTF-8', xml_declaration=True)\n",
    "    return tree\n",
    "\n",
    "\n",
    "def prettify_xml():\n",
    "    with open('recipes.xml', 'r') as file:\n",
    "        xml_text = file.read()\n",
    "        prettified_xml = parseString(xml_text).toprettyxml()\n",
    "        file.close()\n",
    "    with open('recipes.xml', 'w') as file:\n",
    "        file.write(prettified_xml)\n",
    "        file.close()\n",
    "\n",
    "\n",
    "if __name__ == '__main__':\n",
    "    parser('https://www.allrecipes.com/?page=2')\n",
    "    with open('recipes.html', 'r') as file:\n",
    "        data = file.read()\n",
    "    scrapped_data = page_scrapping(data)\n",
    "    xml = xml_forming(scrapped_data)\n",
    "    prettify_xml()"
   ]
  },
  {
   "cell_type": "code",
   "execution_count": null,
   "metadata": {},
   "outputs": [],
   "source": []
  }
 ],
 "metadata": {
  "kernelspec": {
   "display_name": "Python 3",
   "language": "python",
   "name": "python3"
  },
  "language_info": {
   "codemirror_mode": {
    "name": "ipython",
    "version": 3
   },
   "file_extension": ".py",
   "mimetype": "text/x-python",
   "name": "python",
   "nbconvert_exporter": "python",
   "pygments_lexer": "ipython3",
   "version": "3.7.1"
  }
 },
 "nbformat": 4,
 "nbformat_minor": 2
}
